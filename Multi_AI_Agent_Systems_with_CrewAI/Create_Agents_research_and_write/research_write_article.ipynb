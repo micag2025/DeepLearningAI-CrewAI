{
 "cells": [
  {
   "cell_type": "markdown",
   "metadata": {},
   "source": [
    "#  Create Agents to Research and Write an Article 🔮\n",
    "\n",
    "## Introduction\n",
    "This Jupyter notebook guides you through `creating agents using the crewAI framework to research and write an article`. It covers the foundational concepts of multi-agent systems and provides step-by-step instructions to set up and utilize crewAI for content creation."
   ]
  },
  {
   "cell_type": "markdown",
   "metadata": {},
   "source": [
    "**Note** If you're running this notebook on your own machine, you can install the following:\n",
    "```Python\n",
    "!pip install crewai==0.28.8 crewai_tools==0.1.6 langchain_community==0.0.29\n",
    "```"
   ]
  },
  {
   "cell_type": "code",
   "execution_count": null,
   "metadata": {},
   "outputs": [],
   "source": [
    "# Install CrewAI tools\n",
    "%pip install \"crewai[tools]\"\n",
    "%pip install \"crewai[all]\""
   ]
  },
  {
   "cell_type": "code",
   "execution_count": 12,
   "metadata": {},
   "outputs": [],
   "source": [
    "# Suppress warnings for a cleaner output\n",
    "import warnings\n",
    "warnings.filterwarnings('ignore')"
   ]
  },
  {
   "cell_type": "markdown",
   "metadata": {},
   "source": [
    "- Import from the crewAI libray."
   ]
  },
  {
   "cell_type": "code",
   "execution_count": 13,
   "metadata": {},
   "outputs": [],
   "source": [
    "# Import from the crewAI library\n",
    "from crewai import Agent, Task, Crew"
   ]
  },
  {
   "cell_type": "markdown",
   "metadata": {},
   "source": [
    "**Note** _Agent_ represents an agent with specific roles and goals. _Task_ represents a task that the agent needs to perform. _Crew_ represents a group of agents working together on tasks.    "
   ]
  },
  {
   "cell_type": "markdown",
   "metadata": {},
   "source": [
    "- As a LLM for your agents, you'll be using OpenAI's `gpt-3.5-turbo`.\n",
    "\n",
    "**Optional Note:** crewAI also allow other popular models to be used as a LLM for your Agents. You can see some of the examples at the [bottom of the notebook](#1)."
   ]
  },
  {
   "cell_type": "markdown",
   "metadata": {},
   "source": [
    "### Configuration"
   ]
  },
  {
   "cell_type": "code",
   "execution_count": 14,
   "metadata": {},
   "outputs": [],
   "source": [
    "# Import the required libraries\n",
    "import os\n",
    "from utils import get_openai_api_key\n",
    "\n",
    "# Fetch the OpenAI API key using a utility function and store it in a variable\n",
    "openai_api_key = get_openai_api_key()\n",
    "os.environ[\"OPENAI_MODEL_NAME\"] = 'gpt-3.5-turbo'"
   ]
  },
  {
   "cell_type": "markdown",
   "metadata": {},
   "source": [
    "### Creating Agents\n",
    "\n",
    "- Define your Agents, and provide them a `role`, `goal` and `backstory`.\n",
    "- It has been seen that LLMs perform better when they are role playing."
   ]
  },
  {
   "cell_type": "markdown",
   "metadata": {},
   "source": [
    "##### Agent Planner"
   ]
  },
  {
   "cell_type": "code",
   "execution_count": 15,
   "metadata": {},
   "outputs": [],
   "source": [
    "# Define the Content Planner agent responsible for planning engaging and accurate content on a specified topic\n",
    "planner = Agent(\n",
    "    role=\"Content Planner\",\n",
    "    goal=\"Plan engaging and factually accurate content on {topic}\",\n",
    "    backstory=\"You're working on planning a blog article \"\n",
    "              \"about the topic: {topic}.\"\n",
    "              \"You collect information that helps the \"\n",
    "              \"audience learn something \"\n",
    "              \"and make informed decisions. \"\n",
    "              \"Your work is the basis for \"\n",
    "              \"the Content Writer to write an article on this topic.\",\n",
    "    allow_delegation=False,\n",
    "\tverbose=True\n",
    ")"
   ]
  },
  {
   "cell_type": "markdown",
   "metadata": {},
   "source": [
    "#### Agent: Writer"
   ]
  },
  {
   "cell_type": "code",
   "execution_count": 16,
   "metadata": {},
   "outputs": [],
   "source": [
    "# Define the Content Writer agent responsible for writing engaging and accurate content on a specified topic\n",
    "writer = Agent(\n",
    "    role=\"Content Writer\",\n",
    "    goal=\"Write insightful and factually accurate \"\n",
    "         \"opinion piece about the topic: {topic}\",\n",
    "    backstory=\"You're working on a writing \"\n",
    "              \"a new opinion piece about the topic: {topic}. \"\n",
    "              \"You base your writing on the work of \"\n",
    "              \"the Content Planner, who provides an outline \"\n",
    "              \"and relevant context about the topic. \"\n",
    "              \"You follow the main objectives and \"\n",
    "              \"direction of the outline, \"\n",
    "              \"as provide by the Content Planner. \"\n",
    "              \"You also provide objective and impartial insights \"\n",
    "              \"and back them up with information \"\n",
    "              \"provide by the Content Planner. \"\n",
    "              \"You acknowledge in your opinion piece \"\n",
    "              \"when your statements are opinions \"\n",
    "              \"as opposed to objective statements.\",\n",
    "    allow_delegation=False,\n",
    "    verbose=True\n",
    ")"
   ]
  },
  {
   "cell_type": "markdown",
   "metadata": {},
   "source": [
    "#### Agent: Editor"
   ]
  },
  {
   "cell_type": "code",
   "execution_count": 17,
   "metadata": {},
   "outputs": [],
   "source": [
    "# Define the Content Editor agent responsible for editing engaging and accurate content on a specified topic\n",
    "editor = Agent(\n",
    "    role=\"Editor\",\n",
    "    goal=\"Edit a given blog post to align with \"\n",
    "         \"the writing style of the organization. \",\n",
    "    backstory=\"You are an editor who receives a blog post \"\n",
    "              \"from the Content Writer. \"\n",
    "              \"Your goal is to review the blog post \"\n",
    "              \"to ensure that it follows journalistic best practices,\"\n",
    "              \"provides balanced viewpoints \"\n",
    "              \"when providing opinions or assertions, \"\n",
    "              \"and also avoids major controversial topics \"\n",
    "              \"or opinions when possible.\",\n",
    "    allow_delegation=False,\n",
    "    verbose=True\n",
    ")"
   ]
  },
  {
   "cell_type": "markdown",
   "metadata": {},
   "source": [
    "### Creating Tasks\n",
    "\n",
    "- Define your Tasks, and provide them a `description`, `expected_output` and `agent`."
   ]
  },
  {
   "cell_type": "markdown",
   "metadata": {},
   "source": [
    "#### Task: Plan"
   ]
  },
  {
   "cell_type": "code",
   "execution_count": 18,
   "metadata": {},
   "outputs": [],
   "source": [
    "# Define the Task for the Content Planner agent to create a comprehensive content plan document\n",
    "plan = Task(\n",
    "    description=(\n",
    "        \"1. Prioritize the latest trends, key players, \"\n",
    "            \"and noteworthy news on {topic}.\\n\"\n",
    "        \"2. Identify the target audience, considering \"\n",
    "            \"their interests and pain points.\\n\"\n",
    "        \"3. Develop a detailed content outline including \"\n",
    "            \"an introduction, key points, and a call to action.\\n\"\n",
    "        \"4. Include SEO keywords and relevant data or sources.\"\n",
    "    ),\n",
    "    expected_output=\"A comprehensive content plan document \"\n",
    "        \"with an outline, audience analysis, \"\n",
    "        \"SEO keywords, and resources.\",\n",
    "    agent=planner,\n",
    ")"
   ]
  },
  {
   "cell_type": "markdown",
   "metadata": {},
   "source": [
    "#### Task: Write"
   ]
  },
  {
   "cell_type": "code",
   "execution_count": 19,
   "metadata": {},
   "outputs": [],
   "source": [
    "# Define the Task for the Content Writer agent to create a comprehensive content writer document\n",
    "write = Task(\n",
    "    description=(\n",
    "        \"1. Use the content plan to craft a compelling \"\n",
    "            \"blog post on {topic}.\\n\"\n",
    "        \"2. Incorporate SEO keywords naturally.\\n\"\n",
    "\t\t\"3. Sections/Subtitles are properly named \"\n",
    "            \"in an engaging manner.\\n\"\n",
    "        \"4. Ensure the post is structured with an \"\n",
    "            \"engaging introduction, insightful body, \"\n",
    "            \"and a summarizing conclusion.\\n\"\n",
    "        \"5. Proofread for grammatical errors and \"\n",
    "            \"alignment with the brand's voice.\\n\"\n",
    "    ),\n",
    "    expected_output=\"A well-written blog post \"\n",
    "        \"in markdown format, ready for publication, \"\n",
    "        \"each section should have 2 or 3 paragraphs.\",\n",
    "    agent=writer,\n",
    ")"
   ]
  },
  {
   "cell_type": "markdown",
   "metadata": {},
   "source": [
    "#### Task: Edit"
   ]
  },
  {
   "cell_type": "code",
   "execution_count": 20,
   "metadata": {},
   "outputs": [],
   "source": [
    "# Define the Task for the Content Editing agent to create a comprehensive content edit document\n",
    "edit = Task(\n",
    "    description=(\"Proofread the given blog post for \"\n",
    "                 \"grammatical errors and \"\n",
    "                 \"alignment with the brand's voice.\"),\n",
    "    expected_output=\"A well-written blog post in markdown format, \"\n",
    "                    \"ready for publication, \"\n",
    "                    \"each section should have 2 or 3 paragraphs.\",\n",
    "    agent=editor\n",
    ")"
   ]
  },
  {
   "cell_type": "markdown",
   "metadata": {},
   "source": [
    "### Creating the Crew\n",
    "\n",
    "To create a crew of agents and pass tasks to them, it is necessary to set up a sequence where each agent performs a task in order. Here's an example of how you can structure this in Python, assuming you have agents that will execute tasks in a sequential manner (i.e they are dependent on each other):"
   ]
  },
  {
   "cell_type": "code",
   "execution_count": 22,
   "metadata": {},
   "outputs": [],
   "source": [
    "from crewai import Agent, Task, Crew"
   ]
  },
  {
   "cell_type": "code",
   "execution_count": 24,
   "metadata": {},
   "outputs": [],
   "source": [
    "crew = Crew(\n",
    "    agents=[planner, writer, editor],\n",
    "    tasks=[plan, write, edit],\n",
    "    verbose=True  # or False\n",
    ")\n"
   ]
  },
  {
   "cell_type": "markdown",
   "metadata": {},
   "source": [
    "### Running the Crew"
   ]
  },
  {
   "cell_type": "markdown",
   "metadata": {},
   "source": [
    "- Example 1 "
   ]
  },
  {
   "cell_type": "code",
   "execution_count": 25,
   "metadata": {},
   "outputs": [
    {
     "name": "stdout",
     "output_type": "stream",
     "text": [
      "\u001b[1m\u001b[95m# Agent:\u001b[00m \u001b[1m\u001b[92mContent Planner\u001b[00m\n",
      "\u001b[95m## Task:\u001b[00m \u001b[92m1. Prioritize the latest trends, key players, and noteworthy news on Artificial Intelligence.\n",
      "2. Identify the target audience, considering their interests and pain points.\n",
      "3. Develop a detailed content outline including an introduction, key points, and a call to action.\n",
      "4. Include SEO keywords and relevant data or sources.\u001b[00m\n",
      "\n",
      "\n",
      "\u001b[1m\u001b[95m# Agent:\u001b[00m \u001b[1m\u001b[92mContent Planner\u001b[00m\n",
      "\u001b[95m## Final Answer:\u001b[00m \u001b[92m\n",
      "**Content Plan Document**\n",
      "\n",
      "---\n",
      "\n",
      "**Topic: The Rise of Artificial Intelligence in Today's World**\n",
      "\n",
      "---\n",
      "\n",
      "**1. Introduction**\n",
      "- Brief overview of Artificial Intelligence (AI) and its significance.\n",
      "- Statement of the growing impact of AI in various industries.\n",
      "\n",
      "**2. Key Points**\n",
      "\n",
      "**A. Latest Trends in Artificial Intelligence**\n",
      "1. The emergence of explainable AI and its implications.\n",
      "2. The increasing use of AI in healthcare, finance, and retail sectors.\n",
      "3. Ethical considerations and regulations regarding AI technology.\n",
      "\n",
      "**B. Key Players in Artificial Intelligence**\n",
      "1. Google and its advancements in AI research.\n",
      "2. IBM Watson's role in AI applications across different fields.\n",
      "3. Startups disrupting industries with innovative AI solutions.\n",
      "\n",
      "**C. Noteworthy News in Artificial Intelligence**\n",
      "1. Recent breakthroughs in natural language processing (NLP).\n",
      "2. AI-driven solutions aiding in climate change mitigation efforts.\n",
      "3. Collaborations between tech giants and AI startups for cutting-edge developments.\n",
      "\n",
      "**3. Target Audience Analysis**\n",
      "- **Target Audience**: Professionals in technology, business leaders, and individuals interested in AI.\n",
      "- **Interests**: Innovations in AI, future implications of AI technology, industry-specific AI applications.\n",
      "- **Pain Points**: Understanding complex AI concepts, staying updated on the latest AI trends, integrating AI into business strategies.\n",
      "\n",
      "**4. Detailed Outline**\n",
      "\n",
      "**A. Introduction**\n",
      "- Definition of AI and its transformative impact.\n",
      "- Transition to discussing the latest trends in AI.\n",
      "\n",
      "**B. Latest Trends in Artificial Intelligence**\n",
      "- Explainable AI: Importance and challenges.\n",
      "- AI in Healthcare, Finance, and Retail: Case studies and benefits.\n",
      "- Ethics and Regulations: Shaping the future of AI technology.\n",
      "\n",
      "**C. Key Players in Artificial Intelligence**\n",
      "- Google: Innovations and applications in AI.\n",
      "- IBM Watson: Pioneering AI solutions in different sectors.\n",
      "- AI Startups: Disrupting industries with unique AI offerings.\n",
      "\n",
      "**D. Noteworthy News in Artificial Intelligence**\n",
      "- Advancements in NLP: Changing the landscape of communication.\n",
      "- AI for Climate Change: Role of technology in sustainability efforts.\n",
      "- Collaborations for Innovation: Driving progress through partnerships.\n",
      "\n",
      "**E. Call to Action**\n",
      "- Encourage readers to explore further AI resources.\n",
      "- Prompt engagement through social media discussions on AI topics.\n",
      "\n",
      "**5. SEO Keywords**\n",
      "- Artificial Intelligence trends\n",
      "- Key AI players\n",
      "- AI news updates\n",
      "- Impact of AI on industries\n",
      "- AI innovation collaborations\n",
      "\n",
      "**6. Resources**\n",
      "1. Reports from leading AI research institutions like MIT AI Lab and OpenAI.\n",
      "2. Articles from reputable tech news outlets such as TechCrunch and Wired.\n",
      "3. Case studies and whitepapers from AI-driven companies like NVIDIA and Intel.\n",
      "\n",
      "---\n",
      "\n",
      "This comprehensive content plan outlines the structure, audience focus, SEO keywords, and resources to create an engaging and informative article on Artificial Intelligence. It aims to provide the target audience with valuable insights into the latest trends, key players, and noteworthy news shaping the AI landscape.\u001b[00m\n",
      "\n",
      "\n",
      "\u001b[1m\u001b[95m# Agent:\u001b[00m \u001b[1m\u001b[92mContent Writer\u001b[00m\n",
      "\u001b[95m## Task:\u001b[00m \u001b[92m1. Use the content plan to craft a compelling blog post on Artificial Intelligence.\n",
      "2. Incorporate SEO keywords naturally.\n",
      "3. Sections/Subtitles are properly named in an engaging manner.\n",
      "4. Ensure the post is structured with an engaging introduction, insightful body, and a summarizing conclusion.\n",
      "5. Proofread for grammatical errors and alignment with the brand's voice.\n",
      "\u001b[00m\n",
      "\n",
      "\n",
      "\u001b[1m\u001b[95m# Agent:\u001b[00m \u001b[1m\u001b[92mContent Writer\u001b[00m\n",
      "\u001b[95m## Final Answer:\u001b[00m \u001b[92m\n",
      "# The Rise of Artificial Intelligence in Today's World\n",
      "\n",
      "## Introduction\n",
      "Artificial Intelligence (AI) has become a transformative force in today's world, revolutionizing industries and reshaping the way we work and live. Its significance lies in the ability to process vast amounts of data, learn from patterns, and make decisions with minimal human intervention. As AI continues to evolve, its impact is increasingly felt across various sectors, driving efficiency, innovation, and new possibilities.\n",
      "\n",
      "## Latest Trends in Artificial Intelligence\n",
      "### Explainable AI and its Implications\n",
      "One of the latest trends in AI is the emergence of explainable AI, where the decision-making process of AI systems is transparent and understandable to humans. This development addresses the black-box nature of traditional AI models, enhancing trust and accountability in AI applications. However, implementing explainable AI comes with challenges such as balancing transparency with performance and maintaining model complexity.\n",
      "\n",
      "### Increasing Use of AI in Healthcare, Finance, and Retail\n",
      "AI is seeing a surge in adoption across key sectors like healthcare, finance, and retail. In healthcare, AI is revolutionizing diagnostics, personalized medicine, and patient care through predictive analytics and image recognition. Finance is benefitting from AI-driven insights for fraud detection, risk assessment, and algorithmic trading. Retail is leveraging AI for personalized recommendations, demand forecasting, and supply chain optimization, enhancing the customer experience and operational efficiency.\n",
      "\n",
      "### Ethical Considerations and Regulations Regarding AI Technology\n",
      "As AI technologies advance, ethical considerations and regulatory frameworks are crucial to ensure responsible AI deployment. Issues such as bias in AI algorithms, data privacy, and AI's impact on jobs and society require careful attention. Regulatory bodies are increasingly focusing on enforcing guidelines to govern AI applications and mitigate potential risks, striking a balance between innovation and ethical standards.\n",
      "\n",
      "## Key Players in Artificial Intelligence\n",
      "### Google: Advancements in AI Research\n",
      "Google stands at the forefront of AI research, driving innovations in machine learning, natural language processing, and computer vision. From Google Brain to DeepMind, the company's AI initiatives span various domains, including healthcare, autonomous vehicles, and language translation. Google's contributions to open-source AI frameworks and tools have accelerated the development and accessibility of AI technologies.\n",
      "\n",
      "### IBM Watson: AI Applications Across Different Fields\n",
      "IBM Watson is renowned for its cognitive computing capabilities, offering AI solutions tailored to diverse industries such as healthcare, finance, and cybersecurity. Watson's cognitive APIs enable developers to build AI-powered applications for analyzing unstructured data, extracting insights, and making intelligent decisions. IBM's deep expertise in AI consulting and services has positioned Watson as a key player driving AI innovation and transformation.\n",
      "\n",
      "### AI Startups: Disrupting Industries with Innovative Solutions\n",
      "The AI startup landscape is vibrant with companies pioneering disruptive solutions across industries. Startups are leveraging AI technologies like natural language processing, computer vision, and reinforcement learning to address specific business challenges and deliver value-added services. These agile and innovative startups are driving rapid advancements in AI applications, challenging established players and reshaping market dynamics.\n",
      "\n",
      "## Noteworthy News in Artificial Intelligence\n",
      "### Breakthroughs in Natural Language Processing (NLP)\n",
      "Recent breakthroughs in NLP have pushed the boundaries of human-machine communication, enabling more natural and context-aware interactions. State-of-the-art NLP models like GPT-3 and BERT have demonstrated superior language understanding and generation capabilities, powering applications in chatbots, sentiment analysis, and content creation. NLP advancements are unlocking new possibilities for AI-driven communication tools and personalized user experiences.\n",
      "\n",
      "### AI-Driven Solutions for Climate Change Mitigation\n",
      "AI technologies are playing a significant role in addressing global challenges like climate change through innovative solutions. Machine learning algorithms are being used to optimize energy consumption, predict environmental patterns, and enhance sustainability practices. AI-driven climate models and monitoring systems are supporting informed decision-making and fostering collaborative efforts towards a greener and more sustainable future.\n",
      "\n",
      "### Collaborations Between Tech Giants and AI Startups\n",
      "Collaborations between tech giants and AI startups are driving synergies and accelerating advancements in AI innovation. Partnerships enable knowledge sharing, resource pooling, and technology integration, fostering a collaborative ecosystem for AI development. By combining expertise, resources, and diverse perspectives, these collaborations are fueling cutting-edge AI research, product development, and real-world applications.\n",
      "\n",
      "## Conclusion\n",
      "Artificial Intelligence continues to thrive as a transformative force reshaping industries, driving innovation, and enabling new possibilities. The latest trends in AI, the key players shaping the landscape, and the noteworthy news in AI highlight the dynamic evolution and far-reaching impact of AI technologies. As AI advancements continue to unfold, ethical considerations, regulatory frameworks, and collaborative partnerships will be pivotal in harnessing the full potential of AI while ensuring responsible and sustainable deployment.\n",
      "\n",
      "## Call to Action\n",
      "Explore further resources on AI trends, innovations, and industry-specific applications to stay informed and engaged in the rapidly evolving AI landscape. Join the conversation on social media platforms to share insights, exchange ideas, and collaborate on exploring the frontiers of Artificial Intelligence.\n",
      "\n",
      "By embracing the opportunities and challenges presented by Artificial Intelligence, we pave the way for a future where AI enhances human capabilities, drives positive change, and shapes a more intelligent and interconnected world.\u001b[00m\n",
      "\n",
      "\n",
      "\u001b[1m\u001b[95m# Agent:\u001b[00m \u001b[1m\u001b[92mEditor\u001b[00m\n",
      "\u001b[95m## Task:\u001b[00m \u001b[92mProofread the given blog post for grammatical errors and alignment with the brand's voice.\u001b[00m\n",
      "\n",
      "\n",
      "\u001b[1m\u001b[95m# Agent:\u001b[00m \u001b[1m\u001b[92mEditor\u001b[00m\n",
      "\u001b[95m## Final Answer:\u001b[00m \u001b[92m\n",
      "# The Rise of Artificial Intelligence in Today's World\n",
      "\n",
      "## Introduction\n",
      "Artificial Intelligence (AI) has become a transformative force in today's world, revolutionizing industries and reshaping the way we work and live. Its significance lies in the ability to process vast amounts of data, learn from patterns, and make decisions with minimal human intervention. As AI continues to evolve, its impact is increasingly felt across various sectors, driving efficiency, innovation, and new possibilities.\n",
      "\n",
      "## Latest Trends in Artificial Intelligence\n",
      "### Explainable AI and its Implications\n",
      "One of the latest trends in AI is the emergence of explainable AI, where the decision-making process of AI systems is transparent and understandable to humans. This development addresses the black-box nature of traditional AI models, enhancing trust and accountability in AI applications. However, implementing explainable AI comes with challenges such as balancing transparency with performance and maintaining model complexity.\n",
      "\n",
      "### Increasing Use of AI in Healthcare, Finance, and Retail\n",
      "AI is seeing a surge in adoption across key sectors like healthcare, finance, and retail. In healthcare, AI is revolutionizing diagnostics, personalized medicine, and patient care through predictive analytics and image recognition. Finance is benefitting from AI-driven insights for fraud detection, risk assessment, and algorithmic trading. Retail is leveraging AI for personalized recommendations, demand forecasting, and supply chain optimization, enhancing the customer experience and operational efficiency.\n",
      "\n",
      "### Ethical Considerations and Regulations Regarding AI Technology\n",
      "As AI technologies advance, ethical considerations and regulatory frameworks are crucial to ensure responsible AI deployment. Issues such as bias in AI algorithms, data privacy, and AI's impact on jobs and society require careful attention. Regulatory bodies are increasingly focusing on enforcing guidelines to govern AI applications and mitigate potential risks, striking a balance between innovation and ethical standards.\n",
      "\n",
      "## Key Players in Artificial Intelligence\n",
      "### Google: Advancements in AI Research\n",
      "Google stands at the forefront of AI research, driving innovations in machine learning, natural language processing, and computer vision. From Google Brain to DeepMind, the company's AI initiatives span various domains, including healthcare, autonomous vehicles, and language translation. Google's contributions to open-source AI frameworks and tools have accelerated the development and accessibility of AI technologies.\n",
      "\n",
      "### IBM Watson: AI Applications Across Different Fields\n",
      "IBM Watson is renowned for its cognitive computing capabilities, offering AI solutions tailored to diverse industries such as healthcare, finance, and cybersecurity. Watson's cognitive APIs enable developers to build AI-powered applications for analyzing unstructured data, extracting insights, and making intelligent decisions. IBM's deep expertise in AI consulting and services has positioned Watson as a key player driving AI innovation and transformation.\n",
      "\n",
      "### AI Startups: Disrupting Industries with Innovative Solutions\n",
      "The AI startup landscape is vibrant with companies pioneering disruptive solutions across industries. Startups are leveraging AI technologies like natural language processing, computer vision, and reinforcement learning to address specific business challenges and deliver value-added services. These agile and innovative startups are driving rapid advancements in AI applications, challenging established players and reshaping market dynamics.\n",
      "\n",
      "## Noteworthy News in Artificial Intelligence\n",
      "### Breakthroughs in Natural Language Processing (NLP)\n",
      "Recent breakthroughs in NLP have pushed the boundaries of human-machine communication, enabling more natural and context-aware interactions. State-of-the-art NLP models like GPT-3 and BERT have demonstrated superior language understanding and generation capabilities, powering applications in chatbots, sentiment analysis, and content creation. NLP advancements are unlocking new possibilities for AI-driven communication tools and personalized user experiences.\n",
      "\n",
      "### AI-Driven Solutions for Climate Change Mitigation\n",
      "AI technologies are playing a significant role in addressing global challenges like climate change through innovative solutions. Machine learning algorithms are being used to optimize energy consumption, predict environmental patterns, and enhance sustainability practices. AI-driven climate models and monitoring systems are supporting informed decision-making and fostering collaborative efforts towards a greener and more sustainable future.\n",
      "\n",
      "### Collaborations Between Tech Giants and AI Startups\n",
      "Collaborations between tech giants and AI startups are driving synergies and accelerating advancements in AI innovation. Partnerships enable knowledge sharing, resource pooling, and technology integration, fostering a collaborative ecosystem for AI development. By combining expertise, resources, and diverse perspectives, these collaborations are fueling cutting-edge AI research, product development, and real-world applications.\n",
      "\n",
      "## Conclusion\n",
      "Artificial Intelligence continues to thrive as a transformative force reshaping industries, driving innovation, and enabling new possibilities. The latest trends in AI, the key players shaping the landscape, and the noteworthy news in AI highlight the dynamic evolution and far-reaching impact of AI technologies. As AI advancements continue to unfold, ethical considerations, regulatory frameworks, and collaborative partnerships will be pivotal in harnessing the full potential of AI while ensuring responsible and sustainable deployment.\n",
      "\n",
      "## Call to Action\n",
      "Explore further resources on AI trends, innovations, and industry-specific applications to stay informed and engaged in the rapidly evolving AI landscape. Join the conversation on social media platforms to share insights, exchange ideas, and collaborate on exploring the frontiers of Artificial Intelligence.\n",
      "\n",
      "By embracing the opportunities and challenges presented by Artificial Intelligence, we pave the way for a future where AI enhances human capabilities, drives positive change, and shapes a more intelligent and interconnected world.\u001b[00m\n",
      "\n",
      "\n"
     ]
    }
   ],
   "source": [
    "# Execute the crew of agents to generate a comprehensive blog post on the selected topic \n",
    "result = crew.kickoff(inputs={\"topic\": \"Artificial Intelligence\"})"
   ]
  },
  {
   "cell_type": "markdown",
   "metadata": {},
   "source": [
    "- Display the results of your execution as markdown in the notebook."
   ]
  },
  {
   "cell_type": "code",
   "execution_count": 27,
   "metadata": {},
   "outputs": [
    {
     "data": {
      "text/markdown": [
       "# The Rise of Artificial Intelligence in Today's World\n",
       "\n",
       "## Introduction\n",
       "Artificial Intelligence (AI) has become a transformative force in today's world, revolutionizing industries and reshaping the way we work and live. Its significance lies in the ability to process vast amounts of data, learn from patterns, and make decisions with minimal human intervention. As AI continues to evolve, its impact is increasingly felt across various sectors, driving efficiency, innovation, and new possibilities.\n",
       "\n",
       "## Latest Trends in Artificial Intelligence\n",
       "### Explainable AI and its Implications\n",
       "One of the latest trends in AI is the emergence of explainable AI, where the decision-making process of AI systems is transparent and understandable to humans. This development addresses the black-box nature of traditional AI models, enhancing trust and accountability in AI applications. However, implementing explainable AI comes with challenges such as balancing transparency with performance and maintaining model complexity.\n",
       "\n",
       "### Increasing Use of AI in Healthcare, Finance, and Retail\n",
       "AI is seeing a surge in adoption across key sectors like healthcare, finance, and retail. In healthcare, AI is revolutionizing diagnostics, personalized medicine, and patient care through predictive analytics and image recognition. Finance is benefitting from AI-driven insights for fraud detection, risk assessment, and algorithmic trading. Retail is leveraging AI for personalized recommendations, demand forecasting, and supply chain optimization, enhancing the customer experience and operational efficiency.\n",
       "\n",
       "### Ethical Considerations and Regulations Regarding AI Technology\n",
       "As AI technologies advance, ethical considerations and regulatory frameworks are crucial to ensure responsible AI deployment. Issues such as bias in AI algorithms, data privacy, and AI's impact on jobs and society require careful attention. Regulatory bodies are increasingly focusing on enforcing guidelines to govern AI applications and mitigate potential risks, striking a balance between innovation and ethical standards.\n",
       "\n",
       "## Key Players in Artificial Intelligence\n",
       "### Google: Advancements in AI Research\n",
       "Google stands at the forefront of AI research, driving innovations in machine learning, natural language processing, and computer vision. From Google Brain to DeepMind, the company's AI initiatives span various domains, including healthcare, autonomous vehicles, and language translation. Google's contributions to open-source AI frameworks and tools have accelerated the development and accessibility of AI technologies.\n",
       "\n",
       "### IBM Watson: AI Applications Across Different Fields\n",
       "IBM Watson is renowned for its cognitive computing capabilities, offering AI solutions tailored to diverse industries such as healthcare, finance, and cybersecurity. Watson's cognitive APIs enable developers to build AI-powered applications for analyzing unstructured data, extracting insights, and making intelligent decisions. IBM's deep expertise in AI consulting and services has positioned Watson as a key player driving AI innovation and transformation.\n",
       "\n",
       "### AI Startups: Disrupting Industries with Innovative Solutions\n",
       "The AI startup landscape is vibrant with companies pioneering disruptive solutions across industries. Startups are leveraging AI technologies like natural language processing, computer vision, and reinforcement learning to address specific business challenges and deliver value-added services. These agile and innovative startups are driving rapid advancements in AI applications, challenging established players and reshaping market dynamics.\n",
       "\n",
       "## Noteworthy News in Artificial Intelligence\n",
       "### Breakthroughs in Natural Language Processing (NLP)\n",
       "Recent breakthroughs in NLP have pushed the boundaries of human-machine communication, enabling more natural and context-aware interactions. State-of-the-art NLP models like GPT-3 and BERT have demonstrated superior language understanding and generation capabilities, powering applications in chatbots, sentiment analysis, and content creation. NLP advancements are unlocking new possibilities for AI-driven communication tools and personalized user experiences.\n",
       "\n",
       "### AI-Driven Solutions for Climate Change Mitigation\n",
       "AI technologies are playing a significant role in addressing global challenges like climate change through innovative solutions. Machine learning algorithms are being used to optimize energy consumption, predict environmental patterns, and enhance sustainability practices. AI-driven climate models and monitoring systems are supporting informed decision-making and fostering collaborative efforts towards a greener and more sustainable future.\n",
       "\n",
       "### Collaborations Between Tech Giants and AI Startups\n",
       "Collaborations between tech giants and AI startups are driving synergies and accelerating advancements in AI innovation. Partnerships enable knowledge sharing, resource pooling, and technology integration, fostering a collaborative ecosystem for AI development. By combining expertise, resources, and diverse perspectives, these collaborations are fueling cutting-edge AI research, product development, and real-world applications.\n",
       "\n",
       "## Conclusion\n",
       "Artificial Intelligence continues to thrive as a transformative force reshaping industries, driving innovation, and enabling new possibilities. The latest trends in AI, the key players shaping the landscape, and the noteworthy news in AI highlight the dynamic evolution and far-reaching impact of AI technologies. As AI advancements continue to unfold, ethical considerations, regulatory frameworks, and collaborative partnerships will be pivotal in harnessing the full potential of AI while ensuring responsible and sustainable deployment.\n",
       "\n",
       "## Call to Action\n",
       "Explore further resources on AI trends, innovations, and industry-specific applications to stay informed and engaged in the rapidly evolving AI landscape. Join the conversation on social media platforms to share insights, exchange ideas, and collaborate on exploring the frontiers of Artificial Intelligence.\n",
       "\n",
       "By embracing the opportunities and challenges presented by Artificial Intelligence, we pave the way for a future where AI enhances human capabilities, drives positive change, and shapes a more intelligent and interconnected world."
      ],
      "text/plain": [
       "<IPython.core.display.Markdown object>"
      ]
     },
     "execution_count": 27,
     "metadata": {},
     "output_type": "execute_result"
    }
   ],
   "source": [
    "from IPython.display import Markdown\n",
    "\n",
    "# Extract the raw markdown text from the CrewOutput object\n",
    "markdown_text = result.raw\n",
    "\n",
    "# Display the markdown text\n",
    "Markdown(markdown_text)"
   ]
  },
  {
   "cell_type": "markdown",
   "metadata": {},
   "source": [
    "- Example 2 \n",
    " Pass in a topic of your choice and see what the agents come up with!"
   ]
  },
  {
   "cell_type": "code",
   "execution_count": null,
   "metadata": {},
   "outputs": [
    {
     "name": "stdout",
     "output_type": "stream",
     "text": [
      "\u001b[1m\u001b[95m# Agent:\u001b[00m \u001b[1m\u001b[92mContent Planner\u001b[00m\n",
      "\u001b[95m## Task:\u001b[00m \u001b[92m1. Prioritize the latest trends, key players, and noteworthy news on The future of CrewAI.\n",
      "2. Identify the target audience, considering their interests and pain points.\n",
      "3. Develop a detailed content outline including an introduction, key points, and a call to action.\n",
      "4. Include SEO keywords and relevant data or sources.\u001b[00m\n",
      "\n",
      "\n",
      "\u001b[1m\u001b[95m# Agent:\u001b[00m \u001b[1m\u001b[92mContent Planner\u001b[00m\n",
      "\u001b[95m## Final Answer:\u001b[00m \u001b[92m\n",
      "Content Plan: The Future of CrewAI\n",
      "\n",
      "1. Introduction:\n",
      "    a. Brief overview of CrewAI and its significance in the business world.\n",
      "    b. Mention the rapid advancements in AI technology and its impact on virtual teams.\n",
      "    c. Set the tone for the article by highlighting the importance of discussing the future of CrewAI.\n",
      "\n",
      "2. Latest Trends, Key Players, and Noteworthy News:\n",
      "    a. Trends:\n",
      "        i. Integration of more advanced AI algorithms into CrewAI platforms.\n",
      "        ii. Focus on improving natural language processing for better communication.\n",
      "        iii. Incorporation of machine learning for enhanced predictive analytics.\n",
      "    b. Key Players:\n",
      "        i. Mention leading companies like Slack, Microsoft Teams, and Zoom investing in CrewAI.\n",
      "        ii. Highlight emerging startups specializing in AI-driven team collaboration tools.\n",
      "    c. Noteworthy News:\n",
      "        i. Recent partnerships or acquisitions in the CrewAI sector.\n",
      "        ii. Updates on regulatory changes affecting AI in team communication.\n",
      "\n",
      "3. Target Audience:\n",
      "    a. Audience Analysis:\n",
      "        i. Professionals in remote work environments seeking efficient collaboration tools.\n",
      "        ii. Business owners looking to enhance team productivity and communication.\n",
      "        iii. Tech enthusiasts interested in the latest AI applications in virtual team settings.\n",
      "    b. Interests and Pain Points:\n",
      "        i. Interest in innovative technologies shaping the future of work.\n",
      "        ii. Pain points related to ineffective team communication and coordination.\n",
      "        iii. Curiosity about how AI can streamline virtual team dynamics and boost performance.\n",
      "\n",
      "4. Content Outline:\n",
      "    a. Introduction to CrewAI and its evolution.\n",
      "    b. Latest trends driving the future of CrewAI.\n",
      "    c. Key players in the industry and their contributions.\n",
      "    d. Noteworthy news shaping the landscape of CrewAI.\n",
      "    e. Potential benefits of advanced AI integration in virtual teams.\n",
      "    f. Challenges and ethical considerations associated with AI-powered collaboration tools.\n",
      "    g. Call to Action encouraging readers to explore AI-driven solutions for their team collaboration needs.\n",
      "\n",
      "5. SEO Keywords:\n",
      "    - CrewAI future trends\n",
      "    - AI in virtual teams\n",
      "    - Collaboration tools advancements\n",
      "    - Team communication AI technology\n",
      "    - Future of remote work platforms\n",
      "\n",
      "6. Resources:\n",
      "    a. Industry reports from leading research firms on AI in team collaboration.\n",
      "    b. Case studies showcasing successful implementation of AI in virtual teams.\n",
      "    c. Interviews with experts in artificial intelligence and virtual team dynamics.\n",
      "\n",
      "By following this comprehensive content plan, the article on the future of CrewAI will engage the target audience, provide valuable insights on the latest trends, and offer informed perspectives on the evolving landscape of AI-powered collaboration tools in virtual teams.\u001b[00m\n",
      "\n",
      "\n",
      "\u001b[1m\u001b[95m# Agent:\u001b[00m \u001b[1m\u001b[92mContent Writer\u001b[00m\n",
      "\u001b[95m## Task:\u001b[00m \u001b[92m1. Use the content plan to craft a compelling blog post on The future of CrewAI.\n",
      "2. Incorporate SEO keywords naturally.\n",
      "3. Sections/Subtitles are properly named in an engaging manner.\n",
      "4. Ensure the post is structured with an engaging introduction, insightful body, and a summarizing conclusion.\n",
      "5. Proofread for grammatical errors and alignment with the brand's voice.\n",
      "\u001b[00m\n",
      "\n",
      "\n",
      "\u001b[1m\u001b[95m# Agent:\u001b[00m \u001b[1m\u001b[92mContent Writer\u001b[00m\n",
      "\u001b[95m## Final Answer:\u001b[00m \u001b[92m\n",
      "# The Future of CrewAI\n",
      "\n",
      "## Introduction: Embracing the Evolution of Collaboration\n",
      "\n",
      "In today's fast-paced business landscape, the utilization of AI technology has become increasingly prevalent, revolutionizing how virtual teams operate. CrewAI, at the forefront of this transformation, holds significant importance in enhancing team collaboration and productivity. As AI continues to advance rapidly, it's crucial to delve into the future of CrewAI and its implications on virtual teams.\n",
      "\n",
      "The adoption of AI in team communication not only streamlines processes but also boosts efficiency and effectiveness. With virtual work environments becoming the new norm, the evolution of CrewAI is paramount for businesses striving to stay competitive in a global market. Understanding the trends and innovations in this sector is essential for harnessing the full potential of AI-driven tools for seamless collaboration.\n",
      "\n",
      "## Latest Trends, Key Players, and Noteworthy News\n",
      "\n",
      "### Trends Shaping the Future\n",
      "The future of CrewAI revolves around the integration of sophisticated AI algorithms, focusing on enhancing natural language processing to facilitate smoother communication within teams. Moreover, the incorporation of machine learning algorithms paves the way for advanced predictive analytics, allowing teams to make data-driven decisions efficiently.\n",
      "\n",
      "### Key Players Driving Innovation\n",
      "Leading companies such as Slack, Microsoft Teams, and Zoom are heavily investing in CrewAI technology to provide users with cutting-edge collaboration tools. Additionally, emerging startups specializing in AI-driven solutions are pushing the boundaries of team communication, offering unique and tailored experiences for virtual teams.\n",
      "\n",
      "### Noteworthy Developments in the Sector\n",
      "Recent partnerships and acquisitions in the CrewAI sector signify the rapid growth and consolidation within the industry. Stay informed about regulatory changes impacting AI in team communication to ensure compliance and ethical usage of these technologies in virtual work settings.\n",
      "\n",
      "## Target Audience Insights\n",
      "\n",
      "### Understanding the Audience\n",
      "Professionals in remote work environments are actively seeking efficient collaboration tools to streamline their workflow and enhance team dynamics. For business owners, the focus is on improving productivity and communication among distributed teams. Tech enthusiasts are intrigued by the potential of AI applications in virtual team settings and eagerly anticipate the latest advancements in this field.\n",
      "\n",
      "### Addressing Pain Points\n",
      "Ineffective team communication and coordination remain significant challenges for virtual teams, driving the need for AI-powered solutions that can optimize workflow efficiency. By leveraging AI technology, businesses can overcome these pain points and achieve seamless collaboration in remote work environments.\n",
      "\n",
      "## Conclusion: Embracing the Future of AI-Driven Collaboration\n",
      "\n",
      "As we navigate the evolving landscape of CrewAI, the potential benefits of advanced AI integration in virtual teams are immense. However, it's crucial to address the challenges and ethical considerations associated with AI-powered collaboration tools to ensure responsible and sustainable implementation. By exploring AI-driven solutions tailored to their team collaboration needs, businesses can unlock new possibilities and drive success in the era of virtual work.\n",
      "\n",
      "In conclusion, the future of CrewAI holds promise for reshaping how virtual teams operate, offering innovative solutions to enhance communication and productivity. Embracing these advancements in AI technology will be key to staying ahead in the ever-changing business environment. It's time to embark on this transformative journey and embrace the future of AI-driven collaboration in virtual teams.\n",
      "\n",
      "[//]: # (SEO Keywords: CrewAI future trends, AI in virtual teams, Collaboration tools advancements, Team communication AI technology, Future of remote work platforms)\u001b[00m\n",
      "\n",
      "\n",
      "\u001b[1m\u001b[95m# Agent:\u001b[00m \u001b[1m\u001b[92mEditor\u001b[00m\n",
      "\u001b[95m## Task:\u001b[00m \u001b[92mProofread the given blog post for grammatical errors and alignment with the brand's voice.\u001b[00m\n",
      "\n",
      "\n",
      "\u001b[1m\u001b[95m# Agent:\u001b[00m \u001b[1m\u001b[92mEditor\u001b[00m\n",
      "\u001b[95m## Final Answer:\u001b[00m \u001b[92m\n",
      "# The Future of CrewAI\n",
      "\n",
      "## Introduction: Embracing the Evolution of Collaboration\n",
      "\n",
      "In today's fast-paced business landscape, the integration of AI technology has been pivotal in transforming how virtual teams function. CrewAI, positioned at the forefront of this revolution, plays a crucial role in enhancing team collaboration and productivity. With AI advancing rapidly, exploring the future of CrewAI becomes imperative to comprehend its impact on virtual teams effectively.\n",
      "\n",
      "The implementation of AI in team communication not only streamlines processes but also amplifies efficiency and effectiveness. Given the shift towards virtual work environments becoming increasingly prevalent, the evolution of CrewAI holds substantial importance for businesses aiming to maintain competitiveness in a global marketplace. To leverage the full potential of AI-driven tools for seamless collaboration, understanding the trends and innovations in this realm is essential.\n",
      "\n",
      "## Latest Trends, Key Players, and Noteworthy News\n",
      "\n",
      "### Trends Shaping the Future\n",
      "The trajectory of CrewAI's future centers around the incorporation of advanced AI algorithms, emphasizing the enhancement of natural language processing to facilitate smoother team communication. Furthermore, the integration of machine learning algorithms opens doors to sophisticated predictive analytics, empowering teams to make data-driven decisions with precision.\n",
      "\n",
      "### Key Players Driving Innovation\n",
      "Prominent companies like Slack, Microsoft Teams, and Zoom are heavily investing in CrewAI technology to offer users state-of-the-art collaboration tools. Additionally, emerging startups focusing on AI-driven solutions are pushing boundaries in team communication, providing tailored experiences for virtual teams that are both unique and effective.\n",
      "\n",
      "### Noteworthy Developments in the Sector\n",
      "Recent partnerships and acquisitions within the CrewAI sector underscore the rapid expansion and consolidation happening in the industry. Staying abreast of regulatory changes that influence AI in team communication is crucial for ensuring compliance and ethical utilization of these technologies in virtual work environments.\n",
      "\n",
      "## Target Audience Insights\n",
      "\n",
      "### Understanding the Audience\n",
      "Professionals operating in remote work setups are actively searching for efficient collaboration tools to streamline workflows and enhance team cohesion. For business owners, the emphasis lies on elevating productivity and communication within distributed teams. Tech enthusiasts are captivated by the potential of AI applications in virtual team contexts, eagerly anticipating the latest advancements in this arena.\n",
      "\n",
      "### Addressing Pain Points\n",
      "Challenges such as ineffective team communication and coordination persist as significant hurdles for virtual teams, underscoring the necessity for AI-powered solutions that can optimize workflow efficiency. By harnessing AI technology, businesses can surmount these obstacles and achieve seamless collaboration in remote work scenarios.\n",
      "\n",
      "## Conclusion: Embracing the Future of AI-Driven Collaboration\n",
      "\n",
      "As we navigate the evolving landscape of CrewAI, the potential benefits of advanced AI integration in virtual teams are vast. Nevertheless, it is essential to grapple with the challenges and ethical considerations connected with AI-driven collaboration tools to ensure responsible and sustainable implementation. By exploring AI-driven solutions tailored to their team collaboration needs, businesses can unlock new opportunities and foster success in the era of virtual work.\n",
      "\n",
      "In summary, the future of CrewAI offers promise in reshaping how virtual teams function, presenting innovative solutions to boost communication and productivity. Embracing these AI advancements will be decisive in staying ahead in the dynamic business environment. It is time to embark on this transformative journey and embrace the future of AI-driven collaboration in virtual teams.\u001b[00m\n",
      "\n",
      "\n"
     ]
    }
   ],
   "source": [
    "topic = \"The future of CrewAI\" #\"YOUR TOPIC HERE\"\n",
    "result = crew.kickoff(inputs={\"topic\": topic})"
   ]
  },
  {
   "cell_type": "code",
   "execution_count": 30,
   "metadata": {},
   "outputs": [
    {
     "data": {
      "text/markdown": [
       "# The Future of CrewAI\n",
       "\n",
       "## Introduction: Embracing the Evolution of Collaboration\n",
       "\n",
       "In today's fast-paced business landscape, the integration of AI technology has been pivotal in transforming how virtual teams function. CrewAI, positioned at the forefront of this revolution, plays a crucial role in enhancing team collaboration and productivity. With AI advancing rapidly, exploring the future of CrewAI becomes imperative to comprehend its impact on virtual teams effectively.\n",
       "\n",
       "The implementation of AI in team communication not only streamlines processes but also amplifies efficiency and effectiveness. Given the shift towards virtual work environments becoming increasingly prevalent, the evolution of CrewAI holds substantial importance for businesses aiming to maintain competitiveness in a global marketplace. To leverage the full potential of AI-driven tools for seamless collaboration, understanding the trends and innovations in this realm is essential.\n",
       "\n",
       "## Latest Trends, Key Players, and Noteworthy News\n",
       "\n",
       "### Trends Shaping the Future\n",
       "The trajectory of CrewAI's future centers around the incorporation of advanced AI algorithms, emphasizing the enhancement of natural language processing to facilitate smoother team communication. Furthermore, the integration of machine learning algorithms opens doors to sophisticated predictive analytics, empowering teams to make data-driven decisions with precision.\n",
       "\n",
       "### Key Players Driving Innovation\n",
       "Prominent companies like Slack, Microsoft Teams, and Zoom are heavily investing in CrewAI technology to offer users state-of-the-art collaboration tools. Additionally, emerging startups focusing on AI-driven solutions are pushing boundaries in team communication, providing tailored experiences for virtual teams that are both unique and effective.\n",
       "\n",
       "### Noteworthy Developments in the Sector\n",
       "Recent partnerships and acquisitions within the CrewAI sector underscore the rapid expansion and consolidation happening in the industry. Staying abreast of regulatory changes that influence AI in team communication is crucial for ensuring compliance and ethical utilization of these technologies in virtual work environments.\n",
       "\n",
       "## Target Audience Insights\n",
       "\n",
       "### Understanding the Audience\n",
       "Professionals operating in remote work setups are actively searching for efficient collaboration tools to streamline workflows and enhance team cohesion. For business owners, the emphasis lies on elevating productivity and communication within distributed teams. Tech enthusiasts are captivated by the potential of AI applications in virtual team contexts, eagerly anticipating the latest advancements in this arena.\n",
       "\n",
       "### Addressing Pain Points\n",
       "Challenges such as ineffective team communication and coordination persist as significant hurdles for virtual teams, underscoring the necessity for AI-powered solutions that can optimize workflow efficiency. By harnessing AI technology, businesses can surmount these obstacles and achieve seamless collaboration in remote work scenarios.\n",
       "\n",
       "## Conclusion: Embracing the Future of AI-Driven Collaboration\n",
       "\n",
       "As we navigate the evolving landscape of CrewAI, the potential benefits of advanced AI integration in virtual teams are vast. Nevertheless, it is essential to grapple with the challenges and ethical considerations connected with AI-driven collaboration tools to ensure responsible and sustainable implementation. By exploring AI-driven solutions tailored to their team collaboration needs, businesses can unlock new opportunities and foster success in the era of virtual work.\n",
       "\n",
       "In summary, the future of CrewAI offers promise in reshaping how virtual teams function, presenting innovative solutions to boost communication and productivity. Embracing these AI advancements will be decisive in staying ahead in the dynamic business environment. It is time to embark on this transformative journey and embrace the future of AI-driven collaboration in virtual teams."
      ],
      "text/plain": [
       "<IPython.core.display.Markdown object>"
      ]
     },
     "execution_count": 30,
     "metadata": {},
     "output_type": "execute_result"
    }
   ],
   "source": [
    "# Extract the raw markdown text from the CrewOutput object\n",
    "markdown_text = result.raw\n",
    "\n",
    "# Display the markdown text\n",
    "Markdown(markdown_text)"
   ]
  },
  {
   "cell_type": "markdown",
   "metadata": {},
   "source": []
  },
  {
   "cell_type": "markdown",
   "metadata": {},
   "source": [
    "### Other Popular Models as LLM for your Agents"
   ]
  },
  {
   "cell_type": "markdown",
   "metadata": {},
   "source": [
    "- Hugging Face (HuggingFaceHub endpoint)"
   ]
  },
  {
   "cell_type": "code",
   "execution_count": 31,
   "metadata": {},
   "outputs": [
    {
     "name": "stderr",
     "output_type": "stream",
     "text": [
      "C:\\Users\\Michela\\AppData\\Local\\Temp\\ipykernel_16648\\551405978.py:6: LangChainDeprecationWarning: The class `HuggingFaceHub` was deprecated in LangChain 0.0.21 and will be removed in 1.0. An updated version of the class exists in the :class:`~langchain-huggingface package and should be used instead. To use it run `pip install -U :class:`~langchain-huggingface` and import as `from :class:`~langchain_huggingface import HuggingFaceEndpoint``.\n",
      "  llm = HuggingFaceHub(\n"
     ]
    }
   ],
   "source": [
    "#### Hugging Face (HuggingFaceHub endpoint)\n",
    "hg_api_key = os.environ.get(\"HF_API_KEY\")  # Retrieves the API key\n",
    "\n",
    "from langchain_community.llms import HuggingFaceHub\n",
    "\n",
    "llm = HuggingFaceHub(\n",
    "    repo_id=\"HuggingFaceH4/zephyr-7b-beta\",\n",
    "    huggingfacehub_api_token=hg_api_key,\n",
    "    task=\"text-generation\",\n",
    ")\n",
    "\n",
    "### you will pass \"llm\" to your agent function"
   ]
  },
  {
   "cell_type": "markdown",
   "metadata": {},
   "source": [
    "- Creating Agents"
   ]
  },
  {
   "cell_type": "code",
   "execution_count": 32,
   "metadata": {},
   "outputs": [],
   "source": [
    "planner = Agent(\n",
    "    role=\"Content Planner\",\n",
    "    goal=\"Plan engaging and factually accurate content on {topic}\",\n",
    "    backstory=\"You're working on planning a blog article \"\n",
    "              \"about the topic: {topic}.\"\n",
    "              \"You collect information that helps the \"\n",
    "              \"audience learn something \"\n",
    "              \"and make informed decisions. \"\n",
    "              \"Your work is the basis for \"\n",
    "              \"the Content Writer to write an article on this topic.\",\n",
    "    allow_delegation=False,\n",
    "\tverbose=True\n",
    ")\n",
    "\n",
    "writer = Agent(\n",
    "    role=\"Content Writer\",\n",
    "    goal=\"Write insightful and factually accurate \"\n",
    "         \"opinion piece about the topic: {topic}\",\n",
    "    backstory=\"You're working on a writing \"\n",
    "              \"a new opinion piece about the topic: {topic}. \"\n",
    "              \"You base your writing on the work of \"\n",
    "              \"the Content Planner, who provides an outline \"\n",
    "              \"and relevant context about the topic. \"\n",
    "              \"You follow the main objectives and \"\n",
    "              \"direction of the outline, \"\n",
    "              \"as provide by the Content Planner. \"\n",
    "              \"You also provide objective and impartial insights \"\n",
    "              \"and back them up with information \"\n",
    "              \"provide by the Content Planner. \"\n",
    "              \"You acknowledge in your opinion piece \"\n",
    "              \"when your statements are opinions \"\n",
    "              \"as opposed to objective statements.\",\n",
    "    allow_delegation=False,\n",
    "    verbose=True\n",
    ")\n",
    "\n",
    "\n",
    "editor = Agent(\n",
    "    role=\"Editor\",\n",
    "    goal=\"Edit a given blog post to align with \"\n",
    "         \"the writing style of the organization. \",\n",
    "    backstory=\"You are an editor who receives a blog post \"\n",
    "              \"from the Content Writer. \"\n",
    "              \"Your goal is to review the blog post \"\n",
    "              \"to ensure that it follows journalistic best practices,\"\n",
    "              \"provides balanced viewpoints \"\n",
    "              \"when providing opinions or assertions, \"\n",
    "              \"and also avoids major controversial topics \"\n",
    "              \"or opinions when possible.\",\n",
    "    allow_delegation=False,\n",
    "    verbose=True\n",
    ")\n"
   ]
  },
  {
   "cell_type": "markdown",
   "metadata": {},
   "source": [
    "- Creating Tasks"
   ]
  },
  {
   "cell_type": "code",
   "execution_count": 33,
   "metadata": {},
   "outputs": [],
   "source": [
    "plan = Task(\n",
    "    description=(\n",
    "        \"1. Prioritize the latest trends, key players, \"\n",
    "            \"and noteworthy news on {topic}.\\n\"\n",
    "        \"2. Identify the target audience, considering \"\n",
    "            \"their interests and pain points.\\n\"\n",
    "        \"3. Develop a detailed content outline including \"\n",
    "            \"an introduction, key points, and a call to action.\\n\"\n",
    "        \"4. Include SEO keywords and relevant data or sources.\"\n",
    "    ),\n",
    "    expected_output=\"A comprehensive content plan document \"\n",
    "        \"with an outline, audience analysis, \"\n",
    "        \"SEO keywords, and resources.\",\n",
    "    agent=planner,\n",
    ")"
   ]
  },
  {
   "cell_type": "code",
   "execution_count": 34,
   "metadata": {},
   "outputs": [],
   "source": [
    "write = Task(\n",
    "    description=(\n",
    "        \"1. Use the content plan to craft a compelling \"\n",
    "            \"blog post on {topic}.\\n\"\n",
    "        \"2. Incorporate SEO keywords naturally.\\n\"\n",
    "\t\t\"3. Sections/Subtitles are properly named \"\n",
    "            \"in an engaging manner.\\n\"\n",
    "        \"4. Ensure the post is structured with an \"\n",
    "            \"engaging introduction, insightful body, \"\n",
    "            \"and a summarizing conclusion.\\n\"\n",
    "        \"5. Proofread for grammatical errors and \"\n",
    "            \"alignment with the brand's voice.\\n\"\n",
    "    ),\n",
    "    expected_output=\"A well-written blog post \"\n",
    "        \"in markdown format, ready for publication, \"\n",
    "        \"each section should have 2 or 3 paragraphs.\",\n",
    "    agent=writer,\n",
    ")"
   ]
  },
  {
   "cell_type": "code",
   "execution_count": 35,
   "metadata": {},
   "outputs": [],
   "source": [
    "edit = Task(\n",
    "    description=(\"Proofread the given blog post for \"\n",
    "                 \"grammatical errors and \"\n",
    "                 \"alignment with the brand's voice.\"),\n",
    "    expected_output=\"A well-written blog post in markdown format, \"\n",
    "                    \"ready for publication, \"\n",
    "                    \"each section should have 2 or 3 paragraphs.\",\n",
    "    agent=editor\n",
    ")"
   ]
  },
  {
   "cell_type": "markdown",
   "metadata": {},
   "source": [
    "- Creating the Crew"
   ]
  },
  {
   "cell_type": "code",
   "execution_count": 37,
   "metadata": {},
   "outputs": [
    {
     "name": "stderr",
     "output_type": "stream",
     "text": [
      "Overriding of current TracerProvider is not allowed\n"
     ]
    }
   ],
   "source": [
    "crew = Crew(\n",
    "    agents=[planner, writer, editor],\n",
    "    tasks=[plan, write, edit],\n",
    "    verbose=True\n",
    ")"
   ]
  },
  {
   "cell_type": "markdown",
   "metadata": {},
   "source": [
    "- Running the Crew"
   ]
  },
  {
   "cell_type": "code",
   "execution_count": 38,
   "metadata": {},
   "outputs": [
    {
     "name": "stdout",
     "output_type": "stream",
     "text": [
      "\u001b[1m\u001b[95m# Agent:\u001b[00m \u001b[1m\u001b[92mContent Planner\u001b[00m\n",
      "\u001b[95m## Task:\u001b[00m \u001b[92m1. Prioritize the latest trends, key players, and noteworthy news on Artificial Intelligence.\n",
      "2. Identify the target audience, considering their interests and pain points.\n",
      "3. Develop a detailed content outline including an introduction, key points, and a call to action.\n",
      "4. Include SEO keywords and relevant data or sources.\u001b[00m\n",
      "\n",
      "\n",
      "\u001b[1m\u001b[95m# Agent:\u001b[00m \u001b[1m\u001b[92mContent Planner\u001b[00m\n",
      "\u001b[95m## Final Answer:\u001b[00m \u001b[92m\n",
      "Title: Unraveling the Wonders of Artificial Intelligence: Latest Trends, Key Players, and Insights\n",
      "\n",
      "Outline:\n",
      "\n",
      "I. Introduction\n",
      "- Definition of Artificial Intelligence (AI)\n",
      "- Importance and impact of AI in various industries\n",
      "- Brief overview of the latest trends and advancements in AI\n",
      "\n",
      "II. Latest Trends in Artificial Intelligence\n",
      "A. Machine Learning and Deep Learning\n",
      "B. Natural Language Processing (NLP)\n",
      "C. Computer Vision\n",
      "D. AI Ethics and Bias Mitigation\n",
      "E. AI in Healthcare, Finance, Retail, and other sectors\n",
      "\n",
      "III. Key Players in the AI Industry\n",
      "A. Tech Giants (Google, Amazon, Microsoft, etc.)\n",
      "B. AI Startups leading innovation\n",
      "C. Research institutions and universities at the forefront of AI research\n",
      "D. Impact of AI on job market and education\n",
      "\n",
      "IV. Noteworthy News in Artificial Intelligence\n",
      "A. Recent breakthroughs in AI research and development\n",
      "B. AI applications tackling global challenges\n",
      "C. Ethical considerations and regulatory updates\n",
      "D. Future projections and disruptive innovations\n",
      "\n",
      "V. Target Audience Analysis\n",
      "- Professionals in technology, data science, and AI fields seeking the latest insights\n",
      "- Business leaders looking to implement AI solutions in their organizations\n",
      "- Students and researchers interested in AI advancements\n",
      "- General audience curious about the impact of AI on daily life\n",
      "\n",
      "VI. SEO Keywords\n",
      "- Artificial Intelligence trends 2021\n",
      "- Top AI companies\n",
      "- AI innovations and breakthroughs\n",
      "- Ethical AI practices\n",
      "- Future of artificial intelligence\n",
      "\n",
      "VII. Resources\n",
      "1. Forbes - https://www.forbes.com/artificial-intelligence\n",
      "2. MIT Technology Review - https://www.technologyreview.com/ai\n",
      "3. World Economic Forum - https://www.weforum.org/agenda/archive/artificial-intelligence\n",
      "\n",
      "Call to Action: Stay informed on the latest AI trends and advancements by subscribing to our newsletter for exclusive updates and insights!\u001b[00m\n",
      "\n",
      "\n",
      "\u001b[1m\u001b[95m# Agent:\u001b[00m \u001b[1m\u001b[92mContent Writer\u001b[00m\n",
      "\u001b[95m## Task:\u001b[00m \u001b[92m1. Use the content plan to craft a compelling blog post on Artificial Intelligence.\n",
      "2. Incorporate SEO keywords naturally.\n",
      "3. Sections/Subtitles are properly named in an engaging manner.\n",
      "4. Ensure the post is structured with an engaging introduction, insightful body, and a summarizing conclusion.\n",
      "5. Proofread for grammatical errors and alignment with the brand's voice.\n",
      "\u001b[00m\n",
      "\n",
      "\n",
      "\u001b[1m\u001b[95m# Agent:\u001b[00m \u001b[1m\u001b[92mContent Writer\u001b[00m\n",
      "\u001b[95m## Final Answer:\u001b[00m \u001b[92m\n",
      "# Unraveling the Wonders of Artificial Intelligence: Latest Trends, Key Players, and Insights\n",
      "\n",
      "## Introduction\n",
      "Artificial Intelligence (AI) is a transformative technology that simulates human intelligence processes using machines. Its importance and impact across various industries are profound, revolutionizing how businesses operate and enhancing our daily lives. The latest trends in AI exhibit remarkable advancements across Machine Learning, Deep Learning, Natural Language Processing (NLP), Computer Vision, and the critical aspect of AI Ethics and Bias Mitigation. These trends pave the way for AI's integration into sectors like Healthcare, Finance, Retail, and more, promising innovative solutions to complex problems.\n",
      "\n",
      "## Latest Trends in Artificial Intelligence\n",
      "Machine Learning and Deep Learning lie at the core of AI, enabling computers to learn and improve from experience autonomously. Natural Language Processing (NLP) facilitates human-computer interactions through language understanding, while Computer Vision empowers machines to interpret and analyze visual information. AI Ethics and Bias Mitigation have gained prominence, emphasizing the fair and responsible use of AI technologies. The application of AI in Healthcare, Finance, Retail, and other industries demonstrates its versatility in optimizing operations and services, improving decision-making processes, and enhancing customer experiences.\n",
      "\n",
      "## Key Players in the AI Industry\n",
      "The AI landscape is dominated by Tech Giants like Google, Amazon, and Microsoft, who continually push the boundaries of AI innovation. AI Startups play a crucial role in pioneering niche solutions and disrupting traditional industries with cutting-edge AI technologies. Research institutions and universities spearhead AI research, driving fundamental breakthroughs and shaping the future of AI. While AI's impact on the job market and education raises concerns about automation and upskilling requirements, it also creates new opportunities for growth and specialization in AI-related fields.\n",
      "\n",
      "## Noteworthy News in Artificial Intelligence\n",
      "Recent breakthroughs in AI research and development, such as advancements in unsupervised learning and reinforcement learning, showcase the field's rapid evolution. AI applications are increasingly addressing global challenges, from climate change to healthcare disparities, underscoring AI's potential for social impact. Ethical considerations and regulatory updates are paramount to ensure AI technologies are developed and deployed responsibly. Future projections suggest a landscape of disruptive innovations, with AI continuing to reshape industries, societies, and economies.\n",
      "\n",
      "## Target Audience Analysis\n",
      "Professionals in technology, data science, and AI fields seek the latest insights to stay competitive and innovative. Business leaders are exploring AI solutions to drive efficiency, growth, and competitive advantage in their organizations. Students and researchers are at the forefront of AI advancements, shaping the future of the field through academic exploration and practical applications. The general audience is curious about how AI influences their daily lives and the broader implications of AI adoption in society.\n",
      "\n",
      "## SEO Keywords\n",
      "Artificial Intelligence trends 2021, Top AI companies, AI innovations and breakthroughs, Ethical AI practices, Future of artificial intelligence.\n",
      "\n",
      "### Resources\n",
      "1. Forbes - [Artificial Intelligence](https://www.forbes.com/artificial-intelligence)\n",
      "2. MIT Technology Review - [AI](https://www.technologyreview.com/ai)\n",
      "3. World Economic Forum - [Artificial Intelligence](https://www.weforum.org/agenda/archive/artificial-intelligence)\n",
      "\n",
      "Call to Action: Stay informed on the latest AI trends and advancements by subscribing to our newsletter for exclusive updates and insights!\u001b[00m\n",
      "\n",
      "\n",
      "\u001b[1m\u001b[95m# Agent:\u001b[00m \u001b[1m\u001b[92mEditor\u001b[00m\n",
      "\u001b[95m## Task:\u001b[00m \u001b[92mProofread the given blog post for grammatical errors and alignment with the brand's voice.\u001b[00m\n",
      "\n",
      "\n",
      "\u001b[1m\u001b[95m# Agent:\u001b[00m \u001b[1m\u001b[92mEditor\u001b[00m\n",
      "\u001b[95m## Final Answer:\u001b[00m \u001b[92m\n",
      "# Unraveling the Wonders of Artificial Intelligence: Latest Trends, Key Players, and Insights\n",
      "\n",
      "## Introduction\n",
      "Artificial Intelligence (AI) is a groundbreaking technology that emulates human intelligence processes using machines. Its significance and impact across various industries are profound, revolutionizing business operations and improving our daily lives. The latest trends in AI showcase remarkable progress in Machine Learning, Deep Learning, Natural Language Processing (NLP), Computer Vision, and the crucial area of AI Ethics and Bias Mitigation. These trends are driving the integration of AI into sectors such as Healthcare, Finance, Retail, offering innovative solutions to intricate challenges.\n",
      "\n",
      "## Latest Trends in Artificial Intelligence\n",
      "At the heart of AI, Machine Learning and Deep Learning enable computers to autonomously learn and enhance from experience. Natural Language Processing (NLP) enhances human-computer interactions through language comprehension, while Computer Vision enables machines to interpret and analyze visual data. The prominence of AI Ethics and Bias Mitigation underscores the necessity for fair and responsible use of AI technologies. In sectors like Healthcare, Finance, and Retail, the application of AI showcases its flexibility in optimizing operations, improving decision-making, and enhancing customer experiences.\n",
      "\n",
      "## Key Players in the AI Industry\n",
      "Tech Giants including Google, Amazon, and Microsoft lead the AI landscape, continually driving AI innovation forward. AI Startups are instrumental in introducing specialized solutions and disrupting traditional industries with cutting-edge AI technologies. Research institutions and universities are at the forefront of AI research, catalyzing fundamental breakthroughs and shaping AI's future trajectory. While concerns about automation and upskilling accompany AI's impact on the job market and education, it also opens doors to new growth opportunities and specialization within AI-related domains.\n",
      "\n",
      "## Noteworthy News in Artificial Intelligence\n",
      "Recent advancements in AI research and development, such as progress in unsupervised learning and reinforcement learning, underscore the swift evolution of the field. AI applications are increasingly addressing global challenges, ranging from climate change to healthcare disparities, highlighting AI's potential for societal impact. Ethical considerations and regulatory updates are pivotal to ensuring responsible development and deployment of AI technologies. Future projections hint at a landscape of disruptive innovations, with AI set to reshape industries, societies, and economies.\n",
      "\n",
      "## Target Audience Analysis\n",
      "Professionals in technology, data science, and AI domains seek the latest insights to stay ahead in competitiveness and innovation. Business leaders are exploring AI solutions to enhance efficiency, foster growth, and gain a competitive edge within their organizations. Students and researchers play a pivotal role in AI advancements, shaping the future of the field through academic exploration and practical applications. The general audience is keen to understand how AI influences daily life and the broader implications of AI adoption in society.\n",
      "\n",
      "## SEO Keywords\n",
      "Artificial Intelligence trends 2021, Top AI companies, AI innovations and breakthroughs, Ethical AI practices, Future of artificial intelligence.\n",
      "\n",
      "### Resources\n",
      "1. Forbes - [Artificial Intelligence](https://www.forbes.com/artificial-intelligence)\n",
      "2. MIT Technology Review - [AI](https://www.technologyreview.com/ai)\n",
      "3. World Economic Forum - [Artificial Intelligence](https://www.weforum.org/agenda/archive/artificial-intelligence)\n",
      "\n",
      "Call to Action: Stay updated on the latest AI trends and advancements by subscribing to our newsletter for exclusive updates and insights!\u001b[00m\n",
      "\n",
      "\n"
     ]
    }
   ],
   "source": [
    "result = crew.kickoff(inputs={\"topic\": \"Artificial Intelligence\"})"
   ]
  },
  {
   "cell_type": "code",
   "execution_count": 40,
   "metadata": {},
   "outputs": [
    {
     "data": {
      "text/markdown": [
       "# Unraveling the Wonders of Artificial Intelligence: Latest Trends, Key Players, and Insights\n",
       "\n",
       "## Introduction\n",
       "Artificial Intelligence (AI) is a groundbreaking technology that emulates human intelligence processes using machines. Its significance and impact across various industries are profound, revolutionizing business operations and improving our daily lives. The latest trends in AI showcase remarkable progress in Machine Learning, Deep Learning, Natural Language Processing (NLP), Computer Vision, and the crucial area of AI Ethics and Bias Mitigation. These trends are driving the integration of AI into sectors such as Healthcare, Finance, Retail, offering innovative solutions to intricate challenges.\n",
       "\n",
       "## Latest Trends in Artificial Intelligence\n",
       "At the heart of AI, Machine Learning and Deep Learning enable computers to autonomously learn and enhance from experience. Natural Language Processing (NLP) enhances human-computer interactions through language comprehension, while Computer Vision enables machines to interpret and analyze visual data. The prominence of AI Ethics and Bias Mitigation underscores the necessity for fair and responsible use of AI technologies. In sectors like Healthcare, Finance, and Retail, the application of AI showcases its flexibility in optimizing operations, improving decision-making, and enhancing customer experiences.\n",
       "\n",
       "## Key Players in the AI Industry\n",
       "Tech Giants including Google, Amazon, and Microsoft lead the AI landscape, continually driving AI innovation forward. AI Startups are instrumental in introducing specialized solutions and disrupting traditional industries with cutting-edge AI technologies. Research institutions and universities are at the forefront of AI research, catalyzing fundamental breakthroughs and shaping AI's future trajectory. While concerns about automation and upskilling accompany AI's impact on the job market and education, it also opens doors to new growth opportunities and specialization within AI-related domains.\n",
       "\n",
       "## Noteworthy News in Artificial Intelligence\n",
       "Recent advancements in AI research and development, such as progress in unsupervised learning and reinforcement learning, underscore the swift evolution of the field. AI applications are increasingly addressing global challenges, ranging from climate change to healthcare disparities, highlighting AI's potential for societal impact. Ethical considerations and regulatory updates are pivotal to ensuring responsible development and deployment of AI technologies. Future projections hint at a landscape of disruptive innovations, with AI set to reshape industries, societies, and economies.\n",
       "\n",
       "## Target Audience Analysis\n",
       "Professionals in technology, data science, and AI domains seek the latest insights to stay ahead in competitiveness and innovation. Business leaders are exploring AI solutions to enhance efficiency, foster growth, and gain a competitive edge within their organizations. Students and researchers play a pivotal role in AI advancements, shaping the future of the field through academic exploration and practical applications. The general audience is keen to understand how AI influences daily life and the broader implications of AI adoption in society.\n",
       "\n",
       "## SEO Keywords\n",
       "Artificial Intelligence trends 2021, Top AI companies, AI innovations and breakthroughs, Ethical AI practices, Future of artificial intelligence.\n",
       "\n",
       "### Resources\n",
       "1. Forbes - [Artificial Intelligence](https://www.forbes.com/artificial-intelligence)\n",
       "2. MIT Technology Review - [AI](https://www.technologyreview.com/ai)\n",
       "3. World Economic Forum - [Artificial Intelligence](https://www.weforum.org/agenda/archive/artificial-intelligence)\n",
       "\n",
       "Call to Action: Stay updated on the latest AI trends and advancements by subscribing to our newsletter for exclusive updates and insights!"
      ],
      "text/plain": [
       "<IPython.core.display.Markdown object>"
      ]
     },
     "execution_count": 40,
     "metadata": {},
     "output_type": "execute_result"
    }
   ],
   "source": [
    "from IPython.display import Markdown\n",
    "\n",
    "# Extract the raw markdown text from the CrewOutput object\n",
    "markdown_text = result.raw\n",
    "\n",
    "# Display the markdown text\n",
    "Markdown(markdown_text)"
   ]
  },
  {
   "cell_type": "markdown",
   "metadata": {},
   "source": [
    "## Conclusion\n",
    "In this notebook, we demonstrated `how to create a multi-agent system using the crewAI framework to plan, write, and edit a blog post on a given topic`. By leveraging the capabilities of different agents, we automated the content creation process, ensuring that the final output is well-structured, factually accurate, and aligned with the brand's voice. We also demonstrated that there is no relevant differences between using GPT-3.5 and HuggingFace models in the context of the notebook for generating content on this case on  \"Artificial Intelligence\"."
   ]
  },
  {
   "cell_type": "markdown",
   "metadata": {},
   "source": [
    "## Try it Yourself\n",
    "\n",
    "- Pass in a topic of your choice and see what the agents come up with!"
   ]
  },
  {
   "cell_type": "code",
   "execution_count": null,
   "metadata": {},
   "outputs": [],
   "source": []
  }
 ],
 "metadata": {
  "colab": {
   "gpuType": "T4",
   "provenance": []
  },
  "kernelspec": {
   "display_name": "Python 3",
   "language": "python",
   "name": "python3"
  },
  "language_info": {
   "codemirror_mode": {
    "name": "ipython",
    "version": 3
   },
   "file_extension": ".py",
   "mimetype": "text/x-python",
   "name": "python",
   "nbconvert_exporter": "python",
   "pygments_lexer": "ipython3",
   "version": "3.12.2"
  }
 },
 "nbformat": 4,
 "nbformat_minor": 4
}
